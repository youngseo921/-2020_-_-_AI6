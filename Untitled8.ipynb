{
 "cells": [
  {
   "cell_type": "code",
   "execution_count": 12,
   "metadata": {},
   "outputs": [
    {
     "name": "stdout",
     "output_type": "stream",
     "text": [
      "PRODUCT REVIEW\n",
      "상품에 대한 문의를 남기는 공간입니다. 해당 게시판의 성격과 다른 글은 사전동의 없이 담당 게시판으로 이동될 수 있습니다.\n",
      "배송관련, 주문(취소/교환/환불)관련 문의 및 요청사항은 마이컬리 내 1:1 문의에 남겨주세요.\n",
      "최근등록순\n",
      "좋아요많은순\n",
      "조회많은순\n",
      "번호 제목\n",
      "작성자 작성일 도움 조회\n",
      "3331\n",
      "재구매\n",
      "윤*서 2020-12-11 0 2\n",
      "3330\n",
      "후기\n",
      "화이트 이*주 2020-12-11 0 2\n",
      "3329\n",
      "후기\n",
      "화이트 이*주 2020-12-11 0 2\n",
      "3328\n",
      "와우~\n",
      "김*선 2020-12-11 0 3\n",
      "\n",
      "3327\n",
      "이런\n",
      "프렌즈 원*희 2020-12-11 0 2\n",
      "\n",
      "3326\n",
      "괜찮아요\n",
      "정*서 2020-12-11 0 3\n",
      "3325\n",
      "맛있어요\n",
      "라벤더 기*정 2020-12-11 0 2\n"
     ]
    }
   ],
   "source": [
    "from selenium import webdriver\n",
    "from selenium.common.exceptions import TimeoutException\n",
    "from selenium.webdriver.common.keys import Keys\n",
    "from selenium.webdriver.common.by import By\n",
    "from selenium.webdriver.support import expected_conditions as EC\n",
    "from selenium.webdriver.support.ui import WebDriverWait\n",
    "from tqdm.notebook import tqdm #진행상황표시바\n",
    "import time\n",
    "\n",
    "driver = webdriver.Chrome(executable_path='/Users/moon/Desktop/py/chromedriver')\n",
    "\n",
    "url = \"https://www.kurly.com/shop/goods/goods_review_list.php?goodsno=54269&page=2\"\n",
    "\n",
    "driver.get(url)\n",
    "\n",
    "#contents-wrapper > div.xans-element-.xans-product.xans-product-additional.detail_board > div > form\n",
    "\n",
    "a= driver.find_elements_by_css_selector('div>form')\n",
    "\n",
    "for i in a:\n",
    "    print(i.text)"
   ]
  }
 ],
 "metadata": {
  "kernelspec": {
   "display_name": "Python 3",
   "language": "python",
   "name": "python3"
  },
  "language_info": {
   "codemirror_mode": {
    "name": "ipython",
    "version": 3
   },
   "file_extension": ".py",
   "mimetype": "text/x-python",
   "name": "python",
   "nbconvert_exporter": "python",
   "pygments_lexer": "ipython3",
   "version": "3.7.4"
  }
 },
 "nbformat": 4,
 "nbformat_minor": 2
}
