{
 "cells": [
  {
   "cell_type": "code",
   "execution_count": 44,
   "metadata": {
    "scrolled": true
   },
   "outputs": [
    {
     "name": "stdout",
     "output_type": "stream",
     "text": [
      "현재 페이지에 iframe은 2개가 있습니다.\n",
      "0번째 iframe 입니다.\n",
      "<html><head><script src=\"//res.kurly.com/js/vue/xdomain.min.js\" master=\"*\"></script></head><body></body></html>\n",
      "1번째 iframe 입니다.\n",
      "<html><head></head><body></body></html>\n"
     ]
    }
   ],
   "source": [
    "from selenium import webdriver\n",
    "from selenium.common.exceptions import TimeoutException\n",
    "from selenium.webdriver.common.keys import Keys\n",
    "from selenium.webdriver.common.by import By\n",
    "from selenium.webdriver.support import expected_conditions as EC\n",
    "from selenium.webdriver.support.ui import WebDriverWait\n",
    "from tqdm.notebook import tqdm #진행상황표시바\n",
    "import time\n",
    "\n",
    "driver = webdriver.Chrome(executable_path='/Users/moon/Desktop/py/chromedriver')\n",
    "wait = WebDriverWait(driver, 10)\n",
    "url = \"https://www.kurly.com/shop/main/index.php\"\n",
    "\n",
    "driver.get(url)\n",
    "\"\"\"\n",
    "google = driver.find_element_by_name('q')# 구글검색창\n",
    "\n",
    "google.send_keys('마켓컬리')#구글검색창 입력\n",
    "google.submit()#enter\n",
    "#-----------------------------마켓컬리------------------------------------------\n",
    "wait = WebDriverWait(driver, 10)\n",
    "wait.until(EC.element_to_be_clickable((By.XPATH,'//*[@id=\"tads\"]/div/div/div/div[1]/a/div[1]')))\n",
    "\n",
    "driver.find_element_by_xpath('//*[@id=\"tads\"]/div/div/div/div[1]/a/div[1]').click()#링크접속\n",
    "time.sleep(2)\n",
    "\"\"\"\n",
    "market = driver.find_element_by_class_name('inp_search')\n",
    "market.click()\n",
    "market.send_keys('옛날통닭')\n",
    "market2 = driver.find_element_by_class_name(\"btn_search\")\n",
    "market2.click()\n",
    "\n",
    "time.sleep(3)\n",
    "driver.find_element_by_xpath('//*[@id=\"goodsList\"]/div[1]/div/ul/li[2]/div/div').click()#링크접속\n",
    "\n",
    "time.sleep(3)\n",
    "\n",
    "iframes = driver.find_elements_by_tag_name('iframe')\n",
    "print('현재 페이지에 iframe은 %d개가 있습니다.' % len(iframes))\n",
    "\n",
    "# 배열로된 iframes 변수를 for문을 이용해 하나씩 확인해 봅니다.\n",
    "# enumerate() 함수를 사용하면 배열의 index(순번)을 확인할 수 있습니다.\n",
    "for i, iframe in enumerate(iframes):\n",
    "\ttry:\n",
    "\t\tprint('%d번째 iframe 입니다.' % i)\n",
    "\n",
    "\t\t# i 번째 iframe으로 변경합니다.\n",
    "\t\tdriver.switch_to.frame(iframes[i])\n",
    "\n",
    "\t\t# 변경한 iframe 안의 소스를 확인합니다.\n",
    "\t\tprint(driver.page_source)\n",
    "\n",
    "\t\t# 원래 frame으로 돌아옵니다.\n",
    "\t\tdriver.switch_to.default_content()\n",
    "\texcept:\n",
    "\t\t# exception이 발생했다면 원래 frame으로 돌아옵니다.\n",
    "\t\tdriver.switch_to.default_content()\n",
    "\n",
    "\t\t# 몇 번째 frame에서 에러가 났었는지 확인합니다.\n",
    "\t\tprint('pass by except : iframes[%d]' % i)\n",
    "\n",
    "\t\t# 다음 for문으로 넘어갑니다.\n",
    "\t\tpass\n"
   ]
  },
  {
   "cell_type": "code",
   "execution_count": 35,
   "metadata": {},
   "outputs": [
    {
     "ename": "TypeError",
     "evalue": "'WebElement' object is not subscriptable",
     "output_type": "error",
     "traceback": [
      "\u001b[0;31m---------------------------------------------------------------------------\u001b[0m",
      "\u001b[0;31mTypeError\u001b[0m                                 Traceback (most recent call last)",
      "\u001b[0;32m<ipython-input-35-cb0b41d695c9>\u001b[0m in \u001b[0;36m<module>\u001b[0;34m\u001b[0m\n\u001b[0;32m----> 1\u001b[0;31m \u001b[0ma\u001b[0m\u001b[0;34m[\u001b[0m\u001b[0;36m1\u001b[0m\u001b[0;34m]\u001b[0m\u001b[0;34m.\u001b[0m\u001b[0mtext\u001b[0m\u001b[0;34m\u001b[0m\u001b[0;34m\u001b[0m\u001b[0m\n\u001b[0m",
      "\u001b[0;31mTypeError\u001b[0m: 'WebElement' object is not subscriptable"
     ]
    }
   ],
   "source": [
    "find_elements_by_xpath(...)[1].click()"
   ]
  },
  {
   "cell_type": "code",
   "execution_count": null,
   "metadata": {},
   "outputs": [],
   "source": [
    "d"
   ]
  },
  {
   "cell_type": "code",
   "execution_count": null,
   "metadata": {},
   "outputs": [],
   "source": [
    "#contents-wrapper > div.xans-element-.xans-product.xans-product-additional.detail_board > div > form > div:nth-child(8) > div > div.inner_review > div.review_photo"
   ]
  }
 ],
 "metadata": {
  "kernelspec": {
   "display_name": "Python 3",
   "language": "python",
   "name": "python3"
  },
  "language_info": {
   "codemirror_mode": {
    "name": "ipython",
    "version": 3
   },
   "file_extension": ".py",
   "mimetype": "text/x-python",
   "name": "python",
   "nbconvert_exporter": "python",
   "pygments_lexer": "ipython3",
   "version": "3.7.4"
  }
 },
 "nbformat": 4,
 "nbformat_minor": 2
}
